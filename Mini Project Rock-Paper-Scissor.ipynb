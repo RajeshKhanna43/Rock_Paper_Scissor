{
 "cells": [
  {
   "cell_type": "markdown",
   "id": "b85eef59",
   "metadata": {},
   "source": [
    "<h2 align = \"center\" style = \"color : purple\" >Mini Project – Rock Paper Scissors</h2>"
   ]
  },
  {
   "cell_type": "markdown",
   "id": "691a2774",
   "metadata": {},
   "source": [
    "### Mini Project – Rock Paper Scissors"
   ]
  },
  {
   "cell_type": "code",
   "execution_count": 2,
   "id": "02fe8b92",
   "metadata": {},
   "outputs": [
    {
     "name": "stdin",
     "output_type": "stream",
     "text": [
      "enter no of attempts you want to play:  5\n"
     ]
    },
    {
     "name": "stdout",
     "output_type": "stream",
     "text": [
      "Welcome\n"
     ]
    },
    {
     "name": "stdin",
     "output_type": "stream",
     "text": [
      "enter your choice:rock is 1,paper is 2,scissor is 3:  3\n"
     ]
    },
    {
     "name": "stdout",
     "output_type": "stream",
     "text": [
      "tie\n"
     ]
    },
    {
     "name": "stdin",
     "output_type": "stream",
     "text": [
      "enter your choice:rock is 1,paper is 2,scissor is 3:  1\n"
     ]
    },
    {
     "name": "stdout",
     "output_type": "stream",
     "text": [
      "tie\n"
     ]
    },
    {
     "name": "stdin",
     "output_type": "stream",
     "text": [
      "enter your choice:rock is 1,paper is 2,scissor is 3:  2\n"
     ]
    },
    {
     "name": "stdout",
     "output_type": "stream",
     "text": [
      "paper covers rock , you won\n"
     ]
    },
    {
     "name": "stdin",
     "output_type": "stream",
     "text": [
      "enter your choice:rock is 1,paper is 2,scissor is 3:  2\n"
     ]
    },
    {
     "name": "stdout",
     "output_type": "stream",
     "text": [
      "tie\n"
     ]
    },
    {
     "name": "stdin",
     "output_type": "stream",
     "text": [
      "enter your choice:rock is 1,paper is 2,scissor is 3:  1\n"
     ]
    },
    {
     "name": "stdout",
     "output_type": "stream",
     "text": [
      "tie\n",
      "user result 1\n",
      "system result 0\n",
      "you won the game with score:  1\n",
      "Thank You\n",
      "\n",
      " Importing random module \n",
      "           \n",
      "           Created empty lists to append the winning counts of user and \n",
      "           system score \n",
      "           Created RPS()function with one argument \n",
      "           Given initialisation as 1 to increment using while loop \n",
      "           upto it is equal to condition or True\n",
      "           Taking int input from the user rock as 1,paper as 2,scissor as 3 \n",
      "           if user types morethan 3 the warning will come \n",
      "           For system list created with rock is 1,paper is 2,scissor is 3\n",
      "           system choice generated from the list using random.choice\n",
      "           Playing game taking input from the user 1 or 2 or 3 checking with \n",
      "           system generated choice using if and elif with related conditions\n",
      "           and the winner counts is appending to user and system empty lists\n",
      "           By calling function taking input how many attempts you want to play\n",
      "           and finding the length of the 2 winner lists and print it\n",
      "           Declaring the winner using if,elif and else with related conditions\n",
      "           Thank You. \n"
     ]
    }
   ],
   "source": [
    "import random                              # Import random module using import key\n",
    "\n",
    "\n",
    "user_winner = []                           # Created a empty list to append the user winning counts\n",
    "system_winner = []                         # Created a empty list to append the system winning counts\n",
    "\n",
    "def RPS(user_chances):                     # RPS function created using def with one parameter\n",
    "    \n",
    "    \"\"\" Importing random module \n",
    "           \n",
    "           Created empty lists to append the winning counts of user and \n",
    "           system score \n",
    "           Created RPS()function with one argument \n",
    "           Given initialisation as 1 to increment using while loop \n",
    "           upto it is equal to condition or True\n",
    "           Taking int input from the user rock as 1,paper as 2,scissor as 3 \n",
    "           if user types morethan 3 the warning will come \n",
    "           For system list created with rock is 1,paper is 2,scissor is 3\n",
    "           system choice generated from the list using random.choice\n",
    "           Playing game taking input from the user 1 or 2 or 3 checking with \n",
    "           system generated choice using if and elif with related conditions\n",
    "           and the winner counts is appending to user and system empty lists\n",
    "           By calling function taking input how many attempts you want to play\n",
    "           and finding the length of the 2 winner lists and print it\n",
    "           Declaring the winner using if,elif and else with related conditions\n",
    "           Thank You. \"\"\"\n",
    "    print(\"Welcome\")                       # Welcome greet\n",
    "    \n",
    "    count = 1                              # Giving initialisation as 1\n",
    "    \n",
    "    while count <= user_chances:           # Run the condition using while loop\n",
    "        \n",
    "        # Taking input from the user rock as 1,paper as 2,scissor as 3 using int of input function\n",
    "        user = int(input(\"enter your choice:rock is 1,paper is 2,scissor is 3: \"))\n",
    "        if user > 3:                      # If user types more than 3 in input the print output is warning\n",
    "            \n",
    "            print(\"You lost one chance\\n please enter 1 or 2 or 3\")\n",
    "       \n",
    "        system = [1,2,3]                  # Created list for system rock is 1,paper is 2,scissor is 3\n",
    "    \n",
    "        system_choice = random.choice(system)  # Choosing randomly from the list of system using random.choice\n",
    "    \n",
    "        if user == 1:                     # Here 1 is rock input from user\n",
    "            if system_choice == 1:        # Here 1 is rock choice from system and comparing with user input 1\n",
    "                print(\"tie\")\n",
    "            elif system_choice == 2:      # Here 2 is paper choice from system and comparing with user input 1\n",
    "                system_winner.append(count)    # Appending to system_winner\n",
    "                print(\"paper covers rock, you lose\")\n",
    "            elif system_choice == 3:      # Here 3 is seissor choice from system and comparing with user input 1\n",
    "                user_winner.append(count)      # Appending to user_winner\n",
    "                print(\"rock smash scissor, you won\")  \n",
    "            \n",
    "            \n",
    "        if user == 2:                    # Here 2 is paper input from user\n",
    "            if system_choice == 2:       # Here 2 is paper choice from system and comparing with user input 2\n",
    "                print(\"tie\")\n",
    "            elif system_choice == 1:     # Here 1 is rock choice from system and comparing with user input 2\n",
    "                user_winner.append(count)       # Appending to user_winner\n",
    "                print(\"paper covers rock , you won\")\n",
    "            elif system_choice == 3:     # Here 3 is scissor choice from system and comparing with user input 2\n",
    "                system_winner.append(count)     # Appending to system_winner\n",
    "                print(\"scissor cuts paper , you lose\")\n",
    "            \n",
    "        if user == 3:                    # Here 3 is scissor input from user\n",
    "            if system_choice == 3:       # Here 3 is scissor choice from system and comparing with user input 3\n",
    "                print(\"tie\")\n",
    "            elif system_choice == 1:     # Here 1 is rock choice from system and comparing with user input 3\n",
    "                system_winner.append(count)     # Appending to system_winner\n",
    "                print(\"rock smash scissor, you lose\")\n",
    "            elif system_choice == 2:     # Here 2 is paper choice from system and comparing with user input 3\n",
    "                user_winner.append(count)       # Appending to user_winner\n",
    "                print(\"scissor cuts paper , you won\")\n",
    "            \n",
    "        count = count+1                  # Incrementing for initialisation\n",
    "    \n",
    "attempts = int(input(\"enter no of attempts you want to play: \"))    # How many attempts you want to play is attempts\n",
    "play = RPS(attempts)                     # Calling RPS() function with one argument                                \n",
    "                      \n",
    "result_user = len(user_winner)           # Finding length of appended user_winner list\n",
    "print(\"user result\",result_user)\n",
    "result_system = len(system_winner)       # Finding length of appended system_winner list\n",
    "print(\"system result\",result_system)\n",
    "\n",
    "if result_user > result_system:          # Declaring user as winner using scores with if condition  \n",
    "    print(\"you won the game with score: \",result_user)\n",
    "elif result_user == result_system:       # when user and system get same scores winning is tie\n",
    "    print(\"you both are tie with same scores: \",result_user)\n",
    "else: print(\"system won the game with score: \",result_system)   # Declaring system as winner using scores with if condition\n",
    "\n",
    "print(\"Thank You\")                       # Printing \"Thank You\"\n",
    "print(\"\")\n",
    "print(RPS.__doc__)                       # Printing doc string"
   ]
  },
  {
   "cell_type": "code",
   "execution_count": 2,
   "id": "5bae15ba",
   "metadata": {},
   "outputs": [
    {
     "name": "stdout",
     "output_type": "stream",
     "text": [
      "enter no of attempts you want to play: 20\n",
      "Welcome\n",
      "enter your choice:rock is 1,paper is 2,scissor is 3: 10\n",
      "You lost one chance\n",
      " please enter 1 or 2 or 3\n",
      "enter your choice:rock is 1,paper is 2,scissor is 3: 2\n",
      "Scissors cuts paper You lose\n",
      "enter your choice:rock is 1,paper is 2,scissor is 3: 2\n",
      "tie\n",
      "enter your choice:rock is 1,paper is 2,scissor is 3: 1\n",
      "Paper covers rock You lose\n",
      "enter your choice:rock is 1,paper is 2,scissor is 3: 3\n",
      "Rock smashes scissors You lose\n",
      "enter your choice:rock is 1,paper is 2,scissor is 3: 2\n",
      "tie\n",
      "enter your choice:rock is 1,paper is 2,scissor is 3: 1\n",
      "Paper covers rock You lose\n",
      "enter your choice:rock is 1,paper is 2,scissor is 3: 2\n",
      "Paper covers rock You win\n",
      "enter your choice:rock is 1,paper is 2,scissor is 3: 3\n",
      "tie\n",
      "enter your choice:rock is 1,paper is 2,scissor is 3: 1\n",
      "Paper covers rock You lose\n",
      "enter your choice:rock is 1,paper is 2,scissor is 3: 2\n",
      "Scissors cuts paper You lose\n",
      "enter your choice:rock is 1,paper is 2,scissor is 3: 1\n",
      "tie\n",
      "enter your choice:rock is 1,paper is 2,scissor is 3: 3\n",
      "Scissors cuts paper You win\n",
      "enter your choice:rock is 1,paper is 2,scissor is 3: 2\n",
      "Scissors cuts paper You lose\n",
      "enter your choice:rock is 1,paper is 2,scissor is 3: 1\n",
      "Paper covers rock You lose\n",
      "enter your choice:rock is 1,paper is 2,scissor is 3: 3\n",
      "Rock smashes scissors You lose\n",
      "enter your choice:rock is 1,paper is 2,scissor is 3: 3\n",
      "Rock smashes scissors You lose\n",
      "enter your choice:rock is 1,paper is 2,scissor is 3: 3\n",
      "Rock smashes scissors You lose\n",
      "enter your choice:rock is 1,paper is 2,scissor is 3: 3\n",
      "Rock smashes scissors You lose\n",
      "enter your choice:rock is 1,paper is 2,scissor is 3: 3\n",
      "tie\n",
      "user result 2\n",
      "system result 12\n",
      "system won the game with score:  12\n",
      "Thank You\n",
      "\n",
      " Importing random module \n",
      "           \n",
      "           Created empty lists to append the winning counts of user and \n",
      "           system score \n",
      "           Created RPS()function with one argument \n",
      "           Given initialisation as 1 to increment using while loop \n",
      "           upto it is equal to condition or True\n",
      "           Taking int input from the user rock as 1,paper as 2,scissor as 3 \n",
      "           if user types morethan 3 the warning will come \n",
      "           For system list created with rock is 1,paper is 2,scissor is 3\n",
      "           system choice generated from the list using random.choice\n",
      "           Playing game taking input from the user 1 or 2 or 3 checking with \n",
      "           system generated choice using if and elif with related conditions\n",
      "           and the winner counts is appending to user and system empty lists\n",
      "           By calling function taking input how many attempts you want to play\n",
      "           and finding the length of the 2 winner lists and print it\n",
      "           Declaring the winner using if,elif and else with related conditions\n",
      "           Thank You. \n"
     ]
    }
   ],
   "source": [
    "import random                              # Import random module using import key\n",
    "\n",
    "\n",
    "user_winner = []                           # Created a empty list to append the user winning counts\n",
    "system_winner = []                         # Created a empty list to append the system winning counts\n",
    "\n",
    "def RPS(user_chances):                     # RPS function created using def\n",
    "    \n",
    "    \"\"\" Importing random module \n",
    "           \n",
    "           Created empty lists to append the winning counts of user and \n",
    "           system score \n",
    "           Created RPS()function with one argument \n",
    "           Given initialisation as 1 to increment using while loop \n",
    "           upto it is equal to condition or True\n",
    "           Taking int input from the user rock as 1,paper as 2,scissor as 3 \n",
    "           if user types morethan 3 the warning will come \n",
    "           For system list created with rock is 1,paper is 2,scissor is 3\n",
    "           system choice generated from the list using random.choice\n",
    "           Playing game taking input from the user 1 or 2 or 3 checking with \n",
    "           system generated choice using if and elif with related conditions\n",
    "           and the winner counts is appending to user and system empty lists\n",
    "           By calling function taking input how many attempts you want to play\n",
    "           and finding the length of the 2 winner lists and print it\n",
    "           Declaring the winner using if,elif and else with related conditions\n",
    "           Thank You. \"\"\"\n",
    "    print(\"Welcome\")                       # Welcome greet\n",
    "    \n",
    "    count = 1                              # Giving initialisation as 1\n",
    "    \n",
    "    while count <= user_chances:           # Run the condition using while loop\n",
    "        \n",
    "        # Taking input from the user rock as 1,paper as 2,scissor as 3 using int of input function\n",
    "        user = int(input(\"enter your choice:rock is 1,paper is 2,scissor is 3: \"))\n",
    "        if user > 3:                      # If user types more than 3 in input the print output is warning\n",
    "            \n",
    "            print(\"You lost one chance\\n please enter 1 or 2 or 3\")\n",
    "       \n",
    "        system = [1,2,3]                  # Created list for system rock is 1,paper is 2,scissor is 3\n",
    "    \n",
    "        system_choice = random.choice(system)  # Choosing randomly from the list of system using random.choice\n",
    "        \n",
    "        if system_choice == user:         # If both are selected same game is tie\n",
    "            print(\"tie\")\n",
    "            \n",
    "        elif user == 1:                   \n",
    "            if system_choice == 2:        \n",
    "                print(\"Paper covers rock You lose\")      \n",
    "                system_winner.append(count)     # Appending result \n",
    "            else : \n",
    "                print(\"Rock smashes scissors You win\")\n",
    "                user_winner.append(count)       # Appending result \n",
    "        elif user == 2:                         \n",
    "            if system_choice == 1:            \n",
    "                print(\"Paper covers rock You win\")\n",
    "                user_winner.append(count)       # Appending result \n",
    "            else: \n",
    "                print(\"Scissors cuts paper You lose\")\n",
    "                system_winner.append(count)     # Appending result \n",
    "        elif user == 3:\n",
    "            if system_choice == 1:\n",
    "                print(\"Rock smashes scissors You lose\")\n",
    "                system_winner.append(count)     # Appending result \n",
    "            else: \n",
    "                print(\"Scissors cuts paper You win\")\n",
    "                user_winner.append(count)       # Appending result \n",
    "                \n",
    "                \n",
    "        count = count+1                        # Incrementing\n",
    "                \n",
    "\n",
    "                \n",
    "attempts = int(input(\"enter no of attempts you want to play: \"))    # How many attempts you want to play is attempts\n",
    "play = RPS(attempts)                     # Calling RPS() function                                 \n",
    "                      \n",
    "result_user = len(user_winner)           # Finding length of appended user_winner list\n",
    "print(\"user result\",result_user)\n",
    "result_system = len(system_winner)       # Finding length of appended system_winner list\n",
    "print(\"system result\",result_system)\n",
    "\n",
    "if result_user > result_system:          # Declaring user as winner using scores with if condition  \n",
    "    print(\"you won the game with score: \",result_user)\n",
    "elif result_user == result_system:       # when user and system get same scores winning is tie\n",
    "    print(\"you both are tie with same scores: \",result_user)\n",
    "else: print(\"system won the game with score: \",result_system)   # Declaring system as winner using scores with if condition\n",
    "\n",
    "print(\"Thank You\")                       # Printing \"Thank You\"\n",
    "print(\"\")\n",
    "print(RPS.__doc__)                       # Printing doc string"
   ]
  },
  {
   "cell_type": "code",
   "execution_count": null,
   "id": "9a0ea887",
   "metadata": {},
   "outputs": [],
   "source": []
  }
 ],
 "metadata": {
  "kernelspec": {
   "display_name": "Python 3 (ipykernel)",
   "language": "python",
   "name": "python3"
  },
  "language_info": {
   "codemirror_mode": {
    "name": "ipython",
    "version": 3
   },
   "file_extension": ".py",
   "mimetype": "text/x-python",
   "name": "python",
   "nbconvert_exporter": "python",
   "pygments_lexer": "ipython3",
   "version": "3.11.7"
  }
 },
 "nbformat": 4,
 "nbformat_minor": 5
}
